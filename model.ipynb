{
  "nbformat": 4,
  "nbformat_minor": 2,
  "metadata": {
    "colab": {
      "name": "Car Evaluation Data.ipynb",
      "provenance": [],
      "toc_visible": true
    },
    "kernelspec": {
      "name": "python3",
      "display_name": "Python 3"
    },
    "language_info": {
      "name": "python"
    }
  },
  "cells": [
    {
      "cell_type": "markdown",
      "source": [
        "## Introduction"
      ],
      "metadata": {
        "id": "0q6rt8uUpKWe"
      }
    },
    {
      "cell_type": "markdown",
      "source": [
        "\n",
        "In this notebook, we use Car Evaluation Dataset that consists of the features, namely -- buying(Cost of the Car), maintenance (Maintenance Cost), doors (No. of Doors), persons (No. of Persons), lug_boot (Luggage Boot) and Safety.\n",
        "\n",
        "Car Evaluation Database was derived from a simple hierarchical decision model originally developed for the demonstration of DEX, M. Bohanec, V. Rajkovic: Expert system for decision making.\n",
        "\n",
        "It's an imbalanced dataset with categorical variables. We shall explore the dataset in the following section!"
      ],
      "metadata": {
        "id": "KyT2W9IrpNcm"
      }
    },
    {
      "cell_type": "markdown",
      "source": [
        "## Load Packages and the Data"
      ],
      "metadata": {
        "id": "saimvBlvsYDf"
      }
    },
    {
      "cell_type": "code",
      "execution_count": 1,
      "source": [
        "import pandas as pd\r\n",
        "import matplotlib.pyplot as plt\r\n",
        "from sklearn.model_selection import train_test_split\r\n",
        "from sklearn.svm import SVC\r\n",
        "from sklearn.metrics import confusion_matrix, f1_score\r\n",
        "import pickle"
      ],
      "outputs": [],
      "metadata": {
        "id": "1ciRMhl8sR5Y"
      }
    },
    {
      "cell_type": "code",
      "execution_count": 2,
      "source": [
        "columns = [\"buying\",\"maintenance\",\"doors\",\"persons\",\"lug_boot\",\"safety\",\"class\"]\r\n",
        "dataset_original = pd.read_csv(r'D:\\Car_Evaluation\\Car_Evaluation_Data.data',sep=',',names=columns)"
      ],
      "outputs": [],
      "metadata": {
        "id": "DGJE7XvttVtI"
      }
    },
    {
      "cell_type": "code",
      "execution_count": 3,
      "source": [
        "# Copy the dataset, so we can explore it while the original data is safe\r\n",
        "dataset = dataset_original.copy()"
      ],
      "outputs": [],
      "metadata": {
        "id": "U0PUydbht0co"
      }
    },
    {
      "cell_type": "code",
      "execution_count": 4,
      "source": [
        "# Let's have a glimpse of our data\r\n",
        "dataset.head()"
      ],
      "outputs": [
        {
          "output_type": "execute_result",
          "data": {
            "text/plain": [
              "  buying maintenance doors persons lug_boot safety  class\n",
              "0  vhigh       vhigh     2       2    small    low  unacc\n",
              "1  vhigh       vhigh     2       2    small    med  unacc\n",
              "2  vhigh       vhigh     2       2    small   high  unacc\n",
              "3  vhigh       vhigh     2       2      med    low  unacc\n",
              "4  vhigh       vhigh     2       2      med    med  unacc"
            ],
            "text/html": [
              "<div>\n",
              "<style scoped>\n",
              "    .dataframe tbody tr th:only-of-type {\n",
              "        vertical-align: middle;\n",
              "    }\n",
              "\n",
              "    .dataframe tbody tr th {\n",
              "        vertical-align: top;\n",
              "    }\n",
              "\n",
              "    .dataframe thead th {\n",
              "        text-align: right;\n",
              "    }\n",
              "</style>\n",
              "<table border=\"1\" class=\"dataframe\">\n",
              "  <thead>\n",
              "    <tr style=\"text-align: right;\">\n",
              "      <th></th>\n",
              "      <th>buying</th>\n",
              "      <th>maintenance</th>\n",
              "      <th>doors</th>\n",
              "      <th>persons</th>\n",
              "      <th>lug_boot</th>\n",
              "      <th>safety</th>\n",
              "      <th>class</th>\n",
              "    </tr>\n",
              "  </thead>\n",
              "  <tbody>\n",
              "    <tr>\n",
              "      <th>0</th>\n",
              "      <td>vhigh</td>\n",
              "      <td>vhigh</td>\n",
              "      <td>2</td>\n",
              "      <td>2</td>\n",
              "      <td>small</td>\n",
              "      <td>low</td>\n",
              "      <td>unacc</td>\n",
              "    </tr>\n",
              "    <tr>\n",
              "      <th>1</th>\n",
              "      <td>vhigh</td>\n",
              "      <td>vhigh</td>\n",
              "      <td>2</td>\n",
              "      <td>2</td>\n",
              "      <td>small</td>\n",
              "      <td>med</td>\n",
              "      <td>unacc</td>\n",
              "    </tr>\n",
              "    <tr>\n",
              "      <th>2</th>\n",
              "      <td>vhigh</td>\n",
              "      <td>vhigh</td>\n",
              "      <td>2</td>\n",
              "      <td>2</td>\n",
              "      <td>small</td>\n",
              "      <td>high</td>\n",
              "      <td>unacc</td>\n",
              "    </tr>\n",
              "    <tr>\n",
              "      <th>3</th>\n",
              "      <td>vhigh</td>\n",
              "      <td>vhigh</td>\n",
              "      <td>2</td>\n",
              "      <td>2</td>\n",
              "      <td>med</td>\n",
              "      <td>low</td>\n",
              "      <td>unacc</td>\n",
              "    </tr>\n",
              "    <tr>\n",
              "      <th>4</th>\n",
              "      <td>vhigh</td>\n",
              "      <td>vhigh</td>\n",
              "      <td>2</td>\n",
              "      <td>2</td>\n",
              "      <td>med</td>\n",
              "      <td>med</td>\n",
              "      <td>unacc</td>\n",
              "    </tr>\n",
              "  </tbody>\n",
              "</table>\n",
              "</div>"
            ]
          },
          "metadata": {},
          "execution_count": 4
        }
      ],
      "metadata": {
        "colab": {
          "base_uri": "https://localhost:8080/",
          "height": 195
        },
        "id": "YYcIWdyMt9UO",
        "outputId": "eac13e8c-f4fe-4c9b-96f4-c2a675d0ac60"
      }
    },
    {
      "cell_type": "code",
      "execution_count": 5,
      "source": [
        "# Let's get some info about the dataset\r\n",
        "dataset.info()"
      ],
      "outputs": [
        {
          "output_type": "stream",
          "name": "stdout",
          "text": [
            "<class 'pandas.core.frame.DataFrame'>\n",
            "RangeIndex: 1728 entries, 0 to 1727\n",
            "Data columns (total 7 columns):\n",
            " #   Column       Non-Null Count  Dtype \n",
            "---  ------       --------------  ----- \n",
            " 0   buying       1728 non-null   object\n",
            " 1   maintenance  1728 non-null   object\n",
            " 2   doors        1728 non-null   object\n",
            " 3   persons      1728 non-null   object\n",
            " 4   lug_boot     1728 non-null   object\n",
            " 5   safety       1728 non-null   object\n",
            " 6   class        1728 non-null   object\n",
            "dtypes: object(7)\n",
            "memory usage: 94.6+ KB\n"
          ]
        }
      ],
      "metadata": {
        "colab": {
          "base_uri": "https://localhost:8080/"
        },
        "id": "we1P-2_Y71OW",
        "outputId": "edcd9030-b272-439c-c18e-9284eb2642d4"
      }
    },
    {
      "cell_type": "code",
      "execution_count": 6,
      "source": [
        "# Let's get some statistical info about the data\r\n",
        "dataset.describe()"
      ],
      "outputs": [
        {
          "output_type": "execute_result",
          "data": {
            "text/plain": [
              "       buying maintenance doors persons lug_boot safety  class\n",
              "count    1728        1728  1728    1728     1728   1728   1728\n",
              "unique      4           4     4       3        3      3      4\n",
              "top     vhigh       vhigh     2       2    small    low  unacc\n",
              "freq      432         432   432     576      576    576   1210"
            ],
            "text/html": [
              "<div>\n",
              "<style scoped>\n",
              "    .dataframe tbody tr th:only-of-type {\n",
              "        vertical-align: middle;\n",
              "    }\n",
              "\n",
              "    .dataframe tbody tr th {\n",
              "        vertical-align: top;\n",
              "    }\n",
              "\n",
              "    .dataframe thead th {\n",
              "        text-align: right;\n",
              "    }\n",
              "</style>\n",
              "<table border=\"1\" class=\"dataframe\">\n",
              "  <thead>\n",
              "    <tr style=\"text-align: right;\">\n",
              "      <th></th>\n",
              "      <th>buying</th>\n",
              "      <th>maintenance</th>\n",
              "      <th>doors</th>\n",
              "      <th>persons</th>\n",
              "      <th>lug_boot</th>\n",
              "      <th>safety</th>\n",
              "      <th>class</th>\n",
              "    </tr>\n",
              "  </thead>\n",
              "  <tbody>\n",
              "    <tr>\n",
              "      <th>count</th>\n",
              "      <td>1728</td>\n",
              "      <td>1728</td>\n",
              "      <td>1728</td>\n",
              "      <td>1728</td>\n",
              "      <td>1728</td>\n",
              "      <td>1728</td>\n",
              "      <td>1728</td>\n",
              "    </tr>\n",
              "    <tr>\n",
              "      <th>unique</th>\n",
              "      <td>4</td>\n",
              "      <td>4</td>\n",
              "      <td>4</td>\n",
              "      <td>3</td>\n",
              "      <td>3</td>\n",
              "      <td>3</td>\n",
              "      <td>4</td>\n",
              "    </tr>\n",
              "    <tr>\n",
              "      <th>top</th>\n",
              "      <td>vhigh</td>\n",
              "      <td>vhigh</td>\n",
              "      <td>2</td>\n",
              "      <td>2</td>\n",
              "      <td>small</td>\n",
              "      <td>low</td>\n",
              "      <td>unacc</td>\n",
              "    </tr>\n",
              "    <tr>\n",
              "      <th>freq</th>\n",
              "      <td>432</td>\n",
              "      <td>432</td>\n",
              "      <td>432</td>\n",
              "      <td>576</td>\n",
              "      <td>576</td>\n",
              "      <td>576</td>\n",
              "      <td>1210</td>\n",
              "    </tr>\n",
              "  </tbody>\n",
              "</table>\n",
              "</div>"
            ]
          },
          "metadata": {},
          "execution_count": 6
        }
      ],
      "metadata": {
        "colab": {
          "base_uri": "https://localhost:8080/",
          "height": 166
        },
        "id": "yzYMZ2QS73JP",
        "outputId": "19a6f9ad-04b3-4cb8-8b12-de17cfd606a8"
      }
    },
    {
      "cell_type": "markdown",
      "source": [
        "Conclusion from the data, so far\n",
        "\n",
        "* No null values\n",
        "\n",
        "* The dataset is imbalanced, and hence, metric to consider will be F1 score\n",
        "\n",
        "* We have all the categorical variables - 4 Object, 2 int  \n",
        "\n",
        "* We need to perform Label Encoding,but no One-hot encoding since the labels have superior-inferior relationship with each other\n",
        "\n"
      ],
      "metadata": {
        "id": "gVAIVkxK8QoR"
      }
    },
    {
      "cell_type": "code",
      "execution_count": 7,
      "source": [
        "# Let's have a look at our labels/classes\r\n",
        "dataset['class'].unique()"
      ],
      "outputs": [
        {
          "output_type": "execute_result",
          "data": {
            "text/plain": [
              "array(['unacc', 'acc', 'vgood', 'good'], dtype=object)"
            ]
          },
          "metadata": {},
          "execution_count": 7
        }
      ],
      "metadata": {
        "colab": {
          "base_uri": "https://localhost:8080/"
        },
        "id": "WiACsP8t9qbJ",
        "outputId": "f38f7b09-ffbe-4112-abee-e6e9f87a4b37"
      }
    },
    {
      "cell_type": "code",
      "execution_count": 8,
      "source": [
        "# Let's get our labels\r\n",
        "labels = dataset['class'] "
      ],
      "outputs": [],
      "metadata": {
        "id": "KtmZfCFTECWI"
      }
    },
    {
      "cell_type": "code",
      "execution_count": 9,
      "source": [
        "# Let's drop the labels from the dataset, so that we automatically have\r\n",
        "# our independent features ready\r\n",
        "dataset.drop(columns='class',axis=1,inplace=True)"
      ],
      "outputs": [],
      "metadata": {
        "id": "2MEfAxwVEquO"
      }
    },
    {
      "cell_type": "code",
      "execution_count": 10,
      "source": [
        "# Making the Stratified Train Test Split\r\n",
        "X_train, X_test, y_train, y_test = train_test_split(dataset, labels,\r\n",
        "                                                    stratify=labels, \r\n",
        "                                                    test_size=0.25)"
      ],
      "outputs": [],
      "metadata": {
        "id": "1KA0c75LFjZI"
      }
    },
    {
      "cell_type": "markdown",
      "source": [
        "## Processing the Train Dataset"
      ],
      "metadata": {
        "id": "sD89ue_7GwaN"
      }
    },
    {
      "cell_type": "code",
      "execution_count": 11,
      "source": [
        "# Let's create two nested dictionaries to assist us in the process of Label \r\n",
        "# Encoding our features and labels\r\n",
        "replace_values_features = {\r\n",
        "    \"buying\" : {\"vhigh\": 3, \"high\":2, \"med\":1, \"low\":0},\r\n",
        "    \"maintenance\" : {\"vhigh\": 3, \"high\":2, \"med\":1, \"low\":0},\r\n",
        "    \"doors\" : {\"2\":0, \"3\":1, \"4\":2, \"5more\":3},\r\n",
        "    \"persons\" : {\"2\":0, \"4\":1, \"more\":2},\r\n",
        "    \"lug_boot\" : {\"small\":0, \"med\":1, \"big\":2},\r\n",
        "    \"safety\" : {\"low\":0, \"med\":1, \"high\":2}\r\n",
        "}\r\n",
        "\r\n",
        "replace_values_labels = {\"unacc\":0, \"acc\":1, \"good\":2, \"vgood\":3}"
      ],
      "outputs": [],
      "metadata": {
        "id": "y6CEM_sW-FrF"
      }
    },
    {
      "cell_type": "code",
      "execution_count": 12,
      "source": [
        "# Label encoding the Independent Features\r\n",
        "X_train.replace(to_replace=replace_values_features,inplace=True)"
      ],
      "outputs": [
        {
          "output_type": "stream",
          "name": "stderr",
          "text": [
            "d:\\Car_Evaluation\\cars\\lib\\site-packages\\pandas\\core\\frame.py:3607: SettingWithCopyWarning: \n",
            "A value is trying to be set on a copy of a slice from a DataFrame.\n",
            "Try using .loc[row_indexer,col_indexer] = value instead\n",
            "\n",
            "See the caveats in the documentation: https://pandas.pydata.org/pandas-docs/stable/user_guide/indexing.html#returning-a-view-versus-a-copy\n",
            "  self._set_item(key, value)\n",
            "d:\\Car_Evaluation\\cars\\lib\\site-packages\\pandas\\core\\indexing.py:1773: SettingWithCopyWarning: \n",
            "A value is trying to be set on a copy of a slice from a DataFrame.\n",
            "Try using .loc[row_indexer,col_indexer] = value instead\n",
            "\n",
            "See the caveats in the documentation: https://pandas.pydata.org/pandas-docs/stable/user_guide/indexing.html#returning-a-view-versus-a-copy\n",
            "  self._setitem_single_column(ilocs[0], value, pi)\n"
          ]
        }
      ],
      "metadata": {
        "colab": {
          "base_uri": "https://localhost:8080/"
        },
        "id": "rMZOVaZWIJAm",
        "outputId": "87b9bfad-71b9-44ea-a04e-05fb9e327c79"
      }
    },
    {
      "cell_type": "code",
      "execution_count": 13,
      "source": [
        "X_train.info()"
      ],
      "outputs": [
        {
          "output_type": "stream",
          "name": "stdout",
          "text": [
            "<class 'pandas.core.frame.DataFrame'>\n",
            "Int64Index: 1296 entries, 784 to 187\n",
            "Data columns (total 6 columns):\n",
            " #   Column       Non-Null Count  Dtype\n",
            "---  ------       --------------  -----\n",
            " 0   buying       1296 non-null   int64\n",
            " 1   maintenance  1296 non-null   int64\n",
            " 2   doors        1296 non-null   int64\n",
            " 3   persons      1296 non-null   int64\n",
            " 4   lug_boot     1296 non-null   int64\n",
            " 5   safety       1296 non-null   int64\n",
            "dtypes: int64(6)\n",
            "memory usage: 70.9 KB\n"
          ]
        }
      ],
      "metadata": {
        "colab": {
          "base_uri": "https://localhost:8080/"
        },
        "id": "uGo5lteEKpM2",
        "outputId": "bbfd5ac0-503f-416c-929a-cb18bd496481"
      }
    },
    {
      "cell_type": "code",
      "execution_count": 14,
      "source": [
        "y_train.replace(to_replace=replace_values_labels, inplace=True)"
      ],
      "outputs": [],
      "metadata": {
        "id": "qbT4FXjeKhdc"
      }
    },
    {
      "cell_type": "markdown",
      "source": [
        "## Processing the Test Set"
      ],
      "metadata": {
        "id": "KlNQGhrxkDVG"
      }
    },
    {
      "cell_type": "code",
      "execution_count": 15,
      "source": [
        "# Label encoding the Independent Features\r\n",
        "X_test.replace(to_replace=replace_values_features,inplace=True)"
      ],
      "outputs": [],
      "metadata": {
        "colab": {
          "base_uri": "https://localhost:8080/"
        },
        "id": "9z0cw38PkDgi",
        "outputId": "b0a9a645-4066-4b20-ac78-9e146a7e7fd1"
      }
    },
    {
      "cell_type": "code",
      "execution_count": 16,
      "source": [
        "X_test.info()"
      ],
      "outputs": [
        {
          "output_type": "stream",
          "name": "stdout",
          "text": [
            "<class 'pandas.core.frame.DataFrame'>\n",
            "Int64Index: 432 entries, 1144 to 975\n",
            "Data columns (total 6 columns):\n",
            " #   Column       Non-Null Count  Dtype\n",
            "---  ------       --------------  -----\n",
            " 0   buying       432 non-null    int64\n",
            " 1   maintenance  432 non-null    int64\n",
            " 2   doors        432 non-null    int64\n",
            " 3   persons      432 non-null    int64\n",
            " 4   lug_boot     432 non-null    int64\n",
            " 5   safety       432 non-null    int64\n",
            "dtypes: int64(6)\n",
            "memory usage: 23.6 KB\n"
          ]
        }
      ],
      "metadata": {
        "colab": {
          "base_uri": "https://localhost:8080/"
        },
        "id": "0d0Bl0LtkF27",
        "outputId": "0f75d412-dbec-405c-da28-59e064f5ae92"
      }
    },
    {
      "cell_type": "code",
      "execution_count": 17,
      "source": [
        "y_test.replace(to_replace=replace_values_labels, inplace=True)"
      ],
      "outputs": [],
      "metadata": {
        "id": "uK5FNQA_kIfE"
      }
    },
    {
      "cell_type": "markdown",
      "source": [
        "## SVC Model"
      ],
      "metadata": {
        "id": "NJ_5iU_FkspT"
      }
    },
    {
      "cell_type": "code",
      "execution_count": 18,
      "source": [
        "# We chose the Linear Kernel\r\n",
        "model = SVC(kernel='linear') "
      ],
      "outputs": [],
      "metadata": {
        "id": "r3eCOZozkvsa"
      }
    },
    {
      "cell_type": "code",
      "execution_count": 19,
      "source": [
        "#Train the model \r\n",
        "model.fit(X_train, y_train)"
      ],
      "outputs": [
        {
          "output_type": "execute_result",
          "data": {
            "text/plain": [
              "SVC(kernel='linear')"
            ]
          },
          "metadata": {},
          "execution_count": 19
        }
      ],
      "metadata": {
        "colab": {
          "base_uri": "https://localhost:8080/"
        },
        "id": "9JuGmer-nP4O",
        "outputId": "f3dade66-1387-41cd-c696-a69bad685b16"
      }
    },
    {
      "cell_type": "code",
      "execution_count": 20,
      "source": [
        "#Predict the response for test dataset\r\n",
        "y_pred = model.predict(X_test)"
      ],
      "outputs": [],
      "metadata": {
        "id": "nnirUL8InSnE"
      }
    },
    {
      "cell_type": "markdown",
      "source": [
        "## Evaluating the Results"
      ],
      "metadata": {
        "id": "8iQhDx8qqVrn"
      }
    },
    {
      "cell_type": "code",
      "execution_count": 21,
      "source": [
        "print(\"The F1 score of the model is:\",f1_score(y_test,y_pred,average='weighted'))"
      ],
      "outputs": [
        {
          "output_type": "stream",
          "name": "stdout",
          "text": [
            "The F1 score of the model is: 0.8262653050970308\n"
          ]
        }
      ],
      "metadata": {
        "colab": {
          "base_uri": "https://localhost:8080/"
        },
        "id": "5ro4_fPWndq-",
        "outputId": "1bebef1b-caee-41ef-d4fe-8711aa745da1"
      }
    },
    {
      "cell_type": "markdown",
      "source": [
        "We get satisfactory score of 84.4 % on the test dataset. However, to improve the performance, using a Random Forest Classifier or Artificial Neural Network can be considered."
      ],
      "metadata": {
        "id": "E2WG_WSVn0hv"
      }
    },
    {
      "cell_type": "code",
      "execution_count": 22,
      "source": [
        "# Get the Confusion Matrix\r\n",
        "plt.imshow(confusion_matrix(y_test,y_pred))"
      ],
      "outputs": [
        {
          "output_type": "execute_result",
          "data": {
            "text/plain": [
              "<matplotlib.image.AxesImage at 0x14b7df3eb80>"
            ]
          },
          "metadata": {},
          "execution_count": 22
        },
        {
          "output_type": "display_data",
          "data": {
            "text/plain": [
              "<Figure size 432x288 with 1 Axes>"
            ],
            "image/png": "[encoded data removed]"
          },
          "metadata": {
            "needs_background": "light"
          }
        }
      ],
      "metadata": {
        "colab": {
          "base_uri": "https://localhost:8080/",
          "height": 286
        },
        "id": "BfNSw7ICqdjK",
        "outputId": "c57e6190-658f-4cde-a5a4-47c58d195d68"
      }
    },
    {
      "cell_type": "markdown",
      "source": [
        "## Save the model"
      ],
      "metadata": {
        "id": "tFRpkB0yrBjK"
      }
    },
    {
      "cell_type": "code",
      "execution_count": 23,
      "source": [
        "filename = 'model.pkl'\r\n",
        "pickle.dump(model, open(filename, 'wb'))"
      ],
      "outputs": [],
      "metadata": {
        "id": "DWe3_bSspzsB"
      }
    },
    {
      "cell_type": "code",
      "execution_count": 27,
      "source": [
        "ab = model.predict([[0,1,1,1,0,1]])"
      ],
      "outputs": [],
      "metadata": {}
    },
    {
      "cell_type": "code",
      "execution_count": 29,
      "source": [
        "ab[0]"
      ],
      "outputs": [
        {
          "output_type": "execute_result",
          "data": {
            "text/plain": [
              "0"
            ]
          },
          "metadata": {},
          "execution_count": 29
        }
      ],
      "metadata": {}
    }
  ]
}